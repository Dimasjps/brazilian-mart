{
 "cells": [
  {
   "attachments": {},
   "cell_type": "markdown",
   "metadata": {},
   "source": [
    "# Proyek Analisis Data: E-Commerce Public\n",
    "- Nama: Dimas Jalu Pamungkas Suwarsono\n",
    "- Email: dimasjps@gmail.com\n",
    "- Id Dicoding: "
   ]
  },
  {
   "attachments": {},
   "cell_type": "markdown",
   "metadata": {},
   "source": [
    "## Menentukan Pertanyaan Bisnis"
   ]
  },
  {
   "attachments": {},
   "cell_type": "markdown",
   "metadata": {},
   "source": [
    "- Bagaimana performa penjualan kategori barang yang memiliki score review rendah?\n",
    "- Kota dengan jumlah order atau pembeli paling banyak?"
   ]
  },
  {
   "attachments": {},
   "cell_type": "markdown",
   "metadata": {},
   "source": [
    "## Menyaipkan semua library yang dibuthkan"
   ]
  },
  {
   "cell_type": "markdown",
   "metadata": {},
   "source": [
    "Untuk melakukan analisa data dengan menggunakan Python, diperlukan libraries untuk mempermudah proses analisa. Maka perlu dilakukan import libraries seperti pandas, numpy, matplotlib, dan seaborn."
   ]
  },
  {
   "cell_type": "code",
   "execution_count": 1,
   "metadata": {},
   "outputs": [],
   "source": [
    "import numpy as np\n",
    "import pandas as pd\n",
    "import matplotlib.pyplot as plt\n",
    "import seaborn as sns"
   ]
  },
  {
   "attachments": {},
   "cell_type": "markdown",
   "metadata": {},
   "source": [
    "## Data Wrangling"
   ]
  },
  {
   "attachments": {},
   "cell_type": "markdown",
   "metadata": {},
   "source": [
    "### Gathering Data"
   ]
  },
  {
   "cell_type": "markdown",
   "metadata": {},
   "source": [
    "Setelah dilakukannya import libraries, dapat dilakukan import dataset dengan bantuan librarie pandas untuk membaca 6 dataset, diantaranya adalah:"
   ]
  },
  {
   "cell_type": "code",
   "execution_count": 2,
   "metadata": {},
   "outputs": [],
   "source": [
    "order_items_df = pd.read_csv(\"D:\\Dimas Jalu P S\\Dataset\\E-commerce-public-dataset\\E-Commerce Public Dataset\\order_items_dataset.csv\")\n",
    "review_df = pd.read_csv(\"D:\\Dimas Jalu P S\\Dataset\\E-commerce-public-dataset\\E-Commerce Public Dataset\\order_reviews_dataset.csv\")\n",
    "product_brz_df = pd.read_csv(\"D:\\Dimas Jalu P S\\Dataset\\E-commerce-public-dataset\\E-Commerce Public Dataset\\products_dataset.csv\")\n",
    "product_translate_df = pd.read_csv(\"D:\\Dimas Jalu P S\\Dataset\\E-commerce-public-dataset\\E-Commerce Public Dataset\\product_category_name_translation.csv\")\n",
    "orders_df = pd.read_csv(\"D:\\Dimas Jalu P S\\Dataset\\E-commerce-public-dataset\\E-Commerce Public Dataset\\orders_dataset.csv\")\n",
    "seller_df = pd.read_csv(\"D:\\Dimas Jalu P S\\Dataset\\E-commerce-public-dataset\\E-Commerce Public Dataset\\sellers_dataset.csv\")\n",
    "customer_df = pd.read_csv(\"D:\\Dimas Jalu P S\\Dataset\\E-commerce-public-dataset\\E-Commerce Public Dataset\\customers_dataset.csv\")"
   ]
  },
  {
   "cell_type": "markdown",
   "metadata": {},
   "source": [
    "Untuk menjawab nomer 1 diperlukan penggabungan 4 tabel yaitu order_item, review, product_brz, dan product_translate.\n",
    "Karena nama kategori produk masih dalam bahasa brazil, maka diperlukan merge dataset produk dalam bahasa brazil dan nama produk dalam bahasa inggris."
   ]
  },
  {
   "cell_type": "code",
   "execution_count": 3,
   "metadata": {},
   "outputs": [
    {
     "data": {
      "text/html": [
       "<div>\n",
       "<style scoped>\n",
       "    .dataframe tbody tr th:only-of-type {\n",
       "        vertical-align: middle;\n",
       "    }\n",
       "\n",
       "    .dataframe tbody tr th {\n",
       "        vertical-align: top;\n",
       "    }\n",
       "\n",
       "    .dataframe thead th {\n",
       "        text-align: right;\n",
       "    }\n",
       "</style>\n",
       "<table border=\"1\" class=\"dataframe\">\n",
       "  <thead>\n",
       "    <tr style=\"text-align: right;\">\n",
       "      <th></th>\n",
       "      <th>product_id</th>\n",
       "      <th>product_category_name</th>\n",
       "      <th>product_name_lenght</th>\n",
       "      <th>product_description_lenght</th>\n",
       "      <th>product_photos_qty</th>\n",
       "      <th>product_weight_g</th>\n",
       "      <th>product_length_cm</th>\n",
       "      <th>product_height_cm</th>\n",
       "      <th>product_width_cm</th>\n",
       "      <th>product_category_name_english</th>\n",
       "    </tr>\n",
       "  </thead>\n",
       "  <tbody>\n",
       "    <tr>\n",
       "      <th>0</th>\n",
       "      <td>1e9e8ef04dbcff4541ed26657ea517e5</td>\n",
       "      <td>perfumaria</td>\n",
       "      <td>40.0</td>\n",
       "      <td>287.0</td>\n",
       "      <td>1.0</td>\n",
       "      <td>225.0</td>\n",
       "      <td>16.0</td>\n",
       "      <td>10.0</td>\n",
       "      <td>14.0</td>\n",
       "      <td>perfumery</td>\n",
       "    </tr>\n",
       "    <tr>\n",
       "      <th>1</th>\n",
       "      <td>6a2fb4dd53d2cdb88e0432f1284a004c</td>\n",
       "      <td>perfumaria</td>\n",
       "      <td>39.0</td>\n",
       "      <td>346.0</td>\n",
       "      <td>2.0</td>\n",
       "      <td>400.0</td>\n",
       "      <td>27.0</td>\n",
       "      <td>5.0</td>\n",
       "      <td>20.0</td>\n",
       "      <td>perfumery</td>\n",
       "    </tr>\n",
       "    <tr>\n",
       "      <th>2</th>\n",
       "      <td>0d009643171aee696f4733340bc2fdd0</td>\n",
       "      <td>perfumaria</td>\n",
       "      <td>52.0</td>\n",
       "      <td>150.0</td>\n",
       "      <td>1.0</td>\n",
       "      <td>422.0</td>\n",
       "      <td>21.0</td>\n",
       "      <td>16.0</td>\n",
       "      <td>18.0</td>\n",
       "      <td>perfumery</td>\n",
       "    </tr>\n",
       "    <tr>\n",
       "      <th>3</th>\n",
       "      <td>b1eae565a61935e0011ee7682fef9dc9</td>\n",
       "      <td>perfumaria</td>\n",
       "      <td>49.0</td>\n",
       "      <td>460.0</td>\n",
       "      <td>2.0</td>\n",
       "      <td>267.0</td>\n",
       "      <td>17.0</td>\n",
       "      <td>13.0</td>\n",
       "      <td>17.0</td>\n",
       "      <td>perfumery</td>\n",
       "    </tr>\n",
       "    <tr>\n",
       "      <th>4</th>\n",
       "      <td>8da90b37f0fb171b4877c124f965b1f6</td>\n",
       "      <td>perfumaria</td>\n",
       "      <td>56.0</td>\n",
       "      <td>733.0</td>\n",
       "      <td>3.0</td>\n",
       "      <td>377.0</td>\n",
       "      <td>18.0</td>\n",
       "      <td>13.0</td>\n",
       "      <td>15.0</td>\n",
       "      <td>perfumery</td>\n",
       "    </tr>\n",
       "  </tbody>\n",
       "</table>\n",
       "</div>"
      ],
      "text/plain": [
       "                         product_id product_category_name  \\\n",
       "0  1e9e8ef04dbcff4541ed26657ea517e5            perfumaria   \n",
       "1  6a2fb4dd53d2cdb88e0432f1284a004c            perfumaria   \n",
       "2  0d009643171aee696f4733340bc2fdd0            perfumaria   \n",
       "3  b1eae565a61935e0011ee7682fef9dc9            perfumaria   \n",
       "4  8da90b37f0fb171b4877c124f965b1f6            perfumaria   \n",
       "\n",
       "   product_name_lenght  product_description_lenght  product_photos_qty  \\\n",
       "0                 40.0                       287.0                 1.0   \n",
       "1                 39.0                       346.0                 2.0   \n",
       "2                 52.0                       150.0                 1.0   \n",
       "3                 49.0                       460.0                 2.0   \n",
       "4                 56.0                       733.0                 3.0   \n",
       "\n",
       "   product_weight_g  product_length_cm  product_height_cm  product_width_cm  \\\n",
       "0             225.0               16.0               10.0              14.0   \n",
       "1             400.0               27.0                5.0              20.0   \n",
       "2             422.0               21.0               16.0              18.0   \n",
       "3             267.0               17.0               13.0              17.0   \n",
       "4             377.0               18.0               13.0              15.0   \n",
       "\n",
       "  product_category_name_english  \n",
       "0                     perfumery  \n",
       "1                     perfumery  \n",
       "2                     perfumery  \n",
       "3                     perfumery  \n",
       "4                     perfumery  "
      ]
     },
     "execution_count": 3,
     "metadata": {},
     "output_type": "execute_result"
    }
   ],
   "source": [
    "category_df = pd.merge(\n",
    "    left = product_brz_df,\n",
    "    right = product_translate_df,\n",
    "    how = \"inner\",\n",
    "    left_on = \"product_category_name\",\n",
    "    right_on = \"product_category_name\"\n",
    ")\n",
    "\n",
    "category_df. head()"
   ]
  },
  {
   "cell_type": "code",
   "execution_count": 4,
   "metadata": {},
   "outputs": [
    {
     "name": "stdout",
     "output_type": "stream",
     "text": [
      "<class 'pandas.core.frame.DataFrame'>\n",
      "RangeIndex: 32328 entries, 0 to 32327\n",
      "Data columns (total 3 columns):\n",
      " #   Column                         Non-Null Count  Dtype \n",
      "---  ------                         --------------  ----- \n",
      " 0   product_id                     32328 non-null  object\n",
      " 1   product_category_name          32328 non-null  object\n",
      " 2   product_category_name_english  32328 non-null  object\n",
      "dtypes: object(3)\n",
      "memory usage: 757.8+ KB\n"
     ]
    }
   ],
   "source": [
    "category_df.drop(category_df.columns[[2,3,4,5,6,7,8]],axis=1, inplace=True)\n",
    "category_df.info()"
   ]
  },
  {
   "cell_type": "code",
   "execution_count": 5,
   "metadata": {},
   "outputs": [
    {
     "name": "stdout",
     "output_type": "stream",
     "text": [
      "<class 'pandas.core.frame.DataFrame'>\n",
      "RangeIndex: 112372 entries, 0 to 112371\n",
      "Data columns (total 13 columns):\n",
      " #   Column                   Non-Null Count   Dtype  \n",
      "---  ------                   --------------   -----  \n",
      " 0   order_id                 112372 non-null  object \n",
      " 1   order_item_id            112372 non-null  int64  \n",
      " 2   product_id               112372 non-null  object \n",
      " 3   seller_id                112372 non-null  object \n",
      " 4   shipping_limit_date      112372 non-null  object \n",
      " 5   price                    112372 non-null  float64\n",
      " 6   freight_value            112372 non-null  float64\n",
      " 7   review_id                112372 non-null  object \n",
      " 8   review_score             112372 non-null  int64  \n",
      " 9   review_comment_title     13434 non-null   object \n",
      " 10  review_comment_message   47642 non-null   object \n",
      " 11  review_creation_date     112372 non-null  object \n",
      " 12  review_answer_timestamp  112372 non-null  object \n",
      "dtypes: float64(2), int64(2), object(9)\n",
      "memory usage: 11.1+ MB\n"
     ]
    }
   ],
   "source": [
    "order_review_df = pd.merge(\n",
    "    left = order_items_df,\n",
    "    right = review_df,\n",
    "    how = \"inner\",\n",
    "    right_on = \"order_id\",\n",
    "    left_on = \"order_id\"\n",
    ")\n",
    "order_review_df.info() #order item int"
   ]
  },
  {
   "cell_type": "code",
   "execution_count": 6,
   "metadata": {},
   "outputs": [
    {
     "name": "stdout",
     "output_type": "stream",
     "text": [
      "<class 'pandas.core.frame.DataFrame'>\n",
      "RangeIndex: 112372 entries, 0 to 112371\n",
      "Data columns (total 6 columns):\n",
      " #   Column         Non-Null Count   Dtype  \n",
      "---  ------         --------------   -----  \n",
      " 0   order_id       112372 non-null  object \n",
      " 1   order_item_id  112372 non-null  int64  \n",
      " 2   product_id     112372 non-null  object \n",
      " 3   price          112372 non-null  float64\n",
      " 4   freight_value  112372 non-null  float64\n",
      " 5   review_score   112372 non-null  int64  \n",
      "dtypes: float64(2), int64(2), object(2)\n",
      "memory usage: 5.1+ MB\n"
     ]
    }
   ],
   "source": [
    "order_review_df.drop(order_review_df.columns[[3,4,7,9,10,11,12]],axis=1, inplace=True)\n",
    "order_review_df.info()"
   ]
  },
  {
   "cell_type": "code",
   "execution_count": 13,
   "metadata": {},
   "outputs": [
    {
     "name": "stdout",
     "output_type": "stream",
     "text": [
      "<class 'pandas.core.frame.DataFrame'>\n",
      "RangeIndex: 110750 entries, 0 to 110749\n",
      "Data columns (total 8 columns):\n",
      " #   Column                         Non-Null Count   Dtype  \n",
      "---  ------                         --------------   -----  \n",
      " 0   order_id                       110750 non-null  object \n",
      " 1   order_item_id                  110750 non-null  int64  \n",
      " 2   product_id                     110750 non-null  object \n",
      " 3   price                          110750 non-null  float64\n",
      " 4   freight_value                  110750 non-null  float64\n",
      " 5   review_score                   110750 non-null  int64  \n",
      " 6   product_category_name          110750 non-null  object \n",
      " 7   product_category_name_english  110750 non-null  object \n",
      "dtypes: float64(2), int64(2), object(4)\n",
      "memory usage: 6.8+ MB\n"
     ]
    }
   ],
   "source": [
    "product_order_review_df = pd.merge(\n",
    "    left = order_review_df,\n",
    "    right = category_df,\n",
    "    how = \"inner\",\n",
    "    left_on = \"product_id\",\n",
    "    right_on = \"product_id\"\n",
    ")\n",
    "product_order_review_df.info()"
   ]
  },
  {
   "cell_type": "markdown",
   "metadata": {},
   "source": [
    "Selanjutnya untuk mengetahui data customer yang pernah melakukan transaksi, dapat dilakukan merge dari 2 dataset, yaitu customer_df dan orders_df"
   ]
  },
  {
   "cell_type": "code",
   "execution_count": 7,
   "metadata": {},
   "outputs": [
    {
     "name": "stdout",
     "output_type": "stream",
     "text": [
      "<class 'pandas.core.frame.DataFrame'>\n",
      "RangeIndex: 99441 entries, 0 to 99440\n",
      "Data columns (total 12 columns):\n",
      " #   Column                         Non-Null Count  Dtype \n",
      "---  ------                         --------------  ----- \n",
      " 0   customer_id                    99441 non-null  object\n",
      " 1   customer_unique_id             99441 non-null  object\n",
      " 2   customer_zip_code_prefix       99441 non-null  int64 \n",
      " 3   customer_city                  99441 non-null  object\n",
      " 4   customer_state                 99441 non-null  object\n",
      " 5   order_id                       99441 non-null  object\n",
      " 6   order_status                   99441 non-null  object\n",
      " 7   order_purchase_timestamp       99441 non-null  object\n",
      " 8   order_approved_at              99281 non-null  object\n",
      " 9   order_delivered_carrier_date   97658 non-null  object\n",
      " 10  order_delivered_customer_date  96476 non-null  object\n",
      " 11  order_estimated_delivery_date  99441 non-null  object\n",
      "dtypes: int64(1), object(11)\n",
      "memory usage: 9.1+ MB\n"
     ]
    }
   ],
   "source": [
    "customer_order_df = pd.merge(\n",
    "    left = customer_df,\n",
    "    right = orders_df,\n",
    "    how = \"inner\",\n",
    "    left_on = \"customer_id\",\n",
    "    right_on = \"customer_id\"\n",
    ")\n",
    "customer_order_df.info()"
   ]
  },
  {
   "cell_type": "code",
   "execution_count": 8,
   "metadata": {},
   "outputs": [
    {
     "name": "stdout",
     "output_type": "stream",
     "text": [
      "<class 'pandas.core.frame.DataFrame'>\n",
      "RangeIndex: 99441 entries, 0 to 99440\n",
      "Data columns (total 5 columns):\n",
      " #   Column              Non-Null Count  Dtype \n",
      "---  ------              --------------  ----- \n",
      " 0   customer_id         99441 non-null  object\n",
      " 1   customer_unique_id  99441 non-null  object\n",
      " 2   customer_city       99441 non-null  object\n",
      " 3   customer_state      99441 non-null  object\n",
      " 4   order_id            99441 non-null  object\n",
      "dtypes: object(5)\n",
      "memory usage: 3.8+ MB\n"
     ]
    }
   ],
   "source": [
    "customer_order_df.drop(customer_order_df.columns[[2,6,7,8,9,10,11]],axis=1, inplace=True)\n",
    "customer_order_df.info()"
   ]
  },
  {
   "attachments": {},
   "cell_type": "markdown",
   "metadata": {},
   "source": [
    "### Assessing Data"
   ]
  },
  {
   "cell_type": "code",
   "execution_count": 21,
   "metadata": {},
   "outputs": [
    {
     "data": {
      "text/html": [
       "<div>\n",
       "<style scoped>\n",
       "    .dataframe tbody tr th:only-of-type {\n",
       "        vertical-align: middle;\n",
       "    }\n",
       "\n",
       "    .dataframe tbody tr th {\n",
       "        vertical-align: top;\n",
       "    }\n",
       "\n",
       "    .dataframe thead th {\n",
       "        text-align: right;\n",
       "    }\n",
       "</style>\n",
       "<table border=\"1\" class=\"dataframe\">\n",
       "  <thead>\n",
       "    <tr style=\"text-align: right;\">\n",
       "      <th></th>\n",
       "      <th>order_id</th>\n",
       "      <th>order_item_id</th>\n",
       "      <th>product_id</th>\n",
       "      <th>seller_id</th>\n",
       "      <th>shipping_limit_date</th>\n",
       "      <th>price</th>\n",
       "      <th>freight_value</th>\n",
       "      <th>review_id</th>\n",
       "      <th>review_score</th>\n",
       "      <th>review_comment_title</th>\n",
       "      <th>review_comment_message</th>\n",
       "      <th>review_creation_date</th>\n",
       "      <th>review_answer_timestamp</th>\n",
       "      <th>product_category_name</th>\n",
       "      <th>product_category_name_english</th>\n",
       "    </tr>\n",
       "  </thead>\n",
       "  <tbody>\n",
       "    <tr>\n",
       "      <th>55</th>\n",
       "      <td>398545ae905dad286c70f01c7e7311e1</td>\n",
       "      <td>2</td>\n",
       "      <td>d63c1011f49d98b976c352955b1c4bea</td>\n",
       "      <td>cc419e0650a3c5ba77189a1882b7556a</td>\n",
       "      <td>2018-04-12 03:28:44</td>\n",
       "      <td>59.99</td>\n",
       "      <td>19.39</td>\n",
       "      <td>fce2fd5d7a5775c8bf4e7186cd00aab3</td>\n",
       "      <td>5</td>\n",
       "      <td>Ótimo</td>\n",
       "      <td>O produto foi entregue antes do prazo, em perf...</td>\n",
       "      <td>2018-04-29 00:00:00</td>\n",
       "      <td>2018-04-29 19:40:25</td>\n",
       "      <td>beleza_saude</td>\n",
       "      <td>health_beauty</td>\n",
       "    </tr>\n",
       "    <tr>\n",
       "      <th>60</th>\n",
       "      <td>41c45378fe62363faf80c45523a198f1</td>\n",
       "      <td>2</td>\n",
       "      <td>d63c1011f49d98b976c352955b1c4bea</td>\n",
       "      <td>cc419e0650a3c5ba77189a1882b7556a</td>\n",
       "      <td>2017-07-25 05:50:19</td>\n",
       "      <td>49.99</td>\n",
       "      <td>8.72</td>\n",
       "      <td>15751113f34ccc2f93a152e855ebfa37</td>\n",
       "      <td>5</td>\n",
       "      <td>NaN</td>\n",
       "      <td>NaN</td>\n",
       "      <td>2017-07-21 00:00:00</td>\n",
       "      <td>2017-07-24 10:31:42</td>\n",
       "      <td>beleza_saude</td>\n",
       "      <td>health_beauty</td>\n",
       "    </tr>\n",
       "    <tr>\n",
       "      <th>68</th>\n",
       "      <td>7753606fb1d0067848f8a1a7ae5abefa</td>\n",
       "      <td>2</td>\n",
       "      <td>d63c1011f49d98b976c352955b1c4bea</td>\n",
       "      <td>cc419e0650a3c5ba77189a1882b7556a</td>\n",
       "      <td>2018-05-08 15:58:53</td>\n",
       "      <td>59.99</td>\n",
       "      <td>8.88</td>\n",
       "      <td>c78a6fcd085d678131199a80be88fec6</td>\n",
       "      <td>4</td>\n",
       "      <td>Produto errado</td>\n",
       "      <td>Veio com a voltagem 220,sendo que pedi 110</td>\n",
       "      <td>2018-05-18 00:00:00</td>\n",
       "      <td>2018-05-26 05:08:43</td>\n",
       "      <td>beleza_saude</td>\n",
       "      <td>health_beauty</td>\n",
       "    </tr>\n",
       "    <tr>\n",
       "      <th>76</th>\n",
       "      <td>9e52b130c2b57f5dbff34caec0e04467</td>\n",
       "      <td>2</td>\n",
       "      <td>d63c1011f49d98b976c352955b1c4bea</td>\n",
       "      <td>cc419e0650a3c5ba77189a1882b7556a</td>\n",
       "      <td>2018-01-15 20:08:22</td>\n",
       "      <td>59.99</td>\n",
       "      <td>16.18</td>\n",
       "      <td>6fc047623de3c1be11b2ee6e81d1efe2</td>\n",
       "      <td>4</td>\n",
       "      <td>NaN</td>\n",
       "      <td>NaN</td>\n",
       "      <td>2018-01-18 00:00:00</td>\n",
       "      <td>2018-01-19 08:38:05</td>\n",
       "      <td>beleza_saude</td>\n",
       "      <td>health_beauty</td>\n",
       "    </tr>\n",
       "    <tr>\n",
       "      <th>98</th>\n",
       "      <td>f0496c5b6508ecfdf0af4c67896dda41</td>\n",
       "      <td>2</td>\n",
       "      <td>f177554ea93259a5b282f24e33f65ab6</td>\n",
       "      <td>8602a61d680a10a82cceeeda0d99ea3d</td>\n",
       "      <td>2017-10-24 01:10:50</td>\n",
       "      <td>45.00</td>\n",
       "      <td>7.78</td>\n",
       "      <td>41930cc621ab6b5ef58580c2087fb546</td>\n",
       "      <td>5</td>\n",
       "      <td>NaN</td>\n",
       "      <td>NaN</td>\n",
       "      <td>2017-10-20 00:00:00</td>\n",
       "      <td>2017-10-21 12:18:34</td>\n",
       "      <td>fashion_bolsas_e_acessorios</td>\n",
       "      <td>fashion_bags_accessories</td>\n",
       "    </tr>\n",
       "    <tr>\n",
       "      <th>...</th>\n",
       "      <td>...</td>\n",
       "      <td>...</td>\n",
       "      <td>...</td>\n",
       "      <td>...</td>\n",
       "      <td>...</td>\n",
       "      <td>...</td>\n",
       "      <td>...</td>\n",
       "      <td>...</td>\n",
       "      <td>...</td>\n",
       "      <td>...</td>\n",
       "      <td>...</td>\n",
       "      <td>...</td>\n",
       "      <td>...</td>\n",
       "      <td>...</td>\n",
       "      <td>...</td>\n",
       "    </tr>\n",
       "    <tr>\n",
       "      <th>110722</th>\n",
       "      <td>ffb18bf111fa70edf316eb0390427986</td>\n",
       "      <td>2</td>\n",
       "      <td>e86b81dcac341ea01df0260077cdf082</td>\n",
       "      <td>a08692680c77d30a0b4280da5df01c5a</td>\n",
       "      <td>2017-12-01 13:39:22</td>\n",
       "      <td>99.00</td>\n",
       "      <td>9.65</td>\n",
       "      <td>2ff8c02dd6b39252a7af2801a9559ae6</td>\n",
       "      <td>5</td>\n",
       "      <td>NaN</td>\n",
       "      <td>Loja entrou em contato para confirmar a tenção...</td>\n",
       "      <td>2017-12-06 00:00:00</td>\n",
       "      <td>2017-12-11 13:49:59</td>\n",
       "      <td>informatica_acessorios</td>\n",
       "      <td>computers_accessories</td>\n",
       "    </tr>\n",
       "    <tr>\n",
       "      <th>110724</th>\n",
       "      <td>ffb8f7de8940249a3221252818937ecb</td>\n",
       "      <td>3</td>\n",
       "      <td>bd0ac51dc93e62c4dbe6ca9d70a9b311</td>\n",
       "      <td>1d4587203296c8f4ad134dc286fa6db0</td>\n",
       "      <td>2018-07-27 09:04:32</td>\n",
       "      <td>64.50</td>\n",
       "      <td>42.47</td>\n",
       "      <td>72670cacdf95d373cc638d30551de3aa</td>\n",
       "      <td>4</td>\n",
       "      <td>NaN</td>\n",
       "      <td>NaN</td>\n",
       "      <td>2018-08-01 00:00:00</td>\n",
       "      <td>2018-08-03 19:24:11</td>\n",
       "      <td>automotivo</td>\n",
       "      <td>auto</td>\n",
       "    </tr>\n",
       "    <tr>\n",
       "      <th>110734</th>\n",
       "      <td>ffd6f465cab015b452d398ac1f5d978a</td>\n",
       "      <td>2</td>\n",
       "      <td>fdcf45aa23bb8312ecc0027d6e1ef1c4</td>\n",
       "      <td>113e3a788b935f48aad63e1c41dac1bd</td>\n",
       "      <td>2018-05-03 09:30:37</td>\n",
       "      <td>7.84</td>\n",
       "      <td>22.06</td>\n",
       "      <td>cb864e5bb7299e87df2bf1eb66fddbcd</td>\n",
       "      <td>4</td>\n",
       "      <td>Ótimo</td>\n",
       "      <td>O produto chegou antes da data prevista, é tud...</td>\n",
       "      <td>2018-05-04 00:00:00</td>\n",
       "      <td>2018-05-05 01:32:43</td>\n",
       "      <td>artigos_de_natal</td>\n",
       "      <td>christmas_supplies</td>\n",
       "    </tr>\n",
       "    <tr>\n",
       "      <th>110735</th>\n",
       "      <td>ffd6f465cab015b452d398ac1f5d978a</td>\n",
       "      <td>3</td>\n",
       "      <td>fdcf45aa23bb8312ecc0027d6e1ef1c4</td>\n",
       "      <td>113e3a788b935f48aad63e1c41dac1bd</td>\n",
       "      <td>2018-05-03 09:30:37</td>\n",
       "      <td>7.84</td>\n",
       "      <td>22.06</td>\n",
       "      <td>cb864e5bb7299e87df2bf1eb66fddbcd</td>\n",
       "      <td>4</td>\n",
       "      <td>Ótimo</td>\n",
       "      <td>O produto chegou antes da data prevista, é tud...</td>\n",
       "      <td>2018-05-04 00:00:00</td>\n",
       "      <td>2018-05-05 01:32:43</td>\n",
       "      <td>artigos_de_natal</td>\n",
       "      <td>christmas_supplies</td>\n",
       "    </tr>\n",
       "    <tr>\n",
       "      <th>110742</th>\n",
       "      <td>ffe4b41e99d39f0b837a239110260530</td>\n",
       "      <td>2</td>\n",
       "      <td>e97df839917a6e93404867b1d0319bfc</td>\n",
       "      <td>42bde9fef835393bb8a8849cb6b7f245</td>\n",
       "      <td>2017-09-07 21:25:40</td>\n",
       "      <td>19.00</td>\n",
       "      <td>15.79</td>\n",
       "      <td>52103af7ab77ef377854cc1b7e6aeead</td>\n",
       "      <td>4</td>\n",
       "      <td>NaN</td>\n",
       "      <td>NaN</td>\n",
       "      <td>2017-09-12 00:00:00</td>\n",
       "      <td>2017-09-13 01:50:29</td>\n",
       "      <td>brinquedos</td>\n",
       "      <td>toys</td>\n",
       "    </tr>\n",
       "  </tbody>\n",
       "</table>\n",
       "<p>14233 rows × 15 columns</p>\n",
       "</div>"
      ],
      "text/plain": [
       "                                order_id  order_item_id  \\\n",
       "55      398545ae905dad286c70f01c7e7311e1              2   \n",
       "60      41c45378fe62363faf80c45523a198f1              2   \n",
       "68      7753606fb1d0067848f8a1a7ae5abefa              2   \n",
       "76      9e52b130c2b57f5dbff34caec0e04467              2   \n",
       "98      f0496c5b6508ecfdf0af4c67896dda41              2   \n",
       "...                                  ...            ...   \n",
       "110722  ffb18bf111fa70edf316eb0390427986              2   \n",
       "110724  ffb8f7de8940249a3221252818937ecb              3   \n",
       "110734  ffd6f465cab015b452d398ac1f5d978a              2   \n",
       "110735  ffd6f465cab015b452d398ac1f5d978a              3   \n",
       "110742  ffe4b41e99d39f0b837a239110260530              2   \n",
       "\n",
       "                              product_id                         seller_id  \\\n",
       "55      d63c1011f49d98b976c352955b1c4bea  cc419e0650a3c5ba77189a1882b7556a   \n",
       "60      d63c1011f49d98b976c352955b1c4bea  cc419e0650a3c5ba77189a1882b7556a   \n",
       "68      d63c1011f49d98b976c352955b1c4bea  cc419e0650a3c5ba77189a1882b7556a   \n",
       "76      d63c1011f49d98b976c352955b1c4bea  cc419e0650a3c5ba77189a1882b7556a   \n",
       "98      f177554ea93259a5b282f24e33f65ab6  8602a61d680a10a82cceeeda0d99ea3d   \n",
       "...                                  ...                               ...   \n",
       "110722  e86b81dcac341ea01df0260077cdf082  a08692680c77d30a0b4280da5df01c5a   \n",
       "110724  bd0ac51dc93e62c4dbe6ca9d70a9b311  1d4587203296c8f4ad134dc286fa6db0   \n",
       "110734  fdcf45aa23bb8312ecc0027d6e1ef1c4  113e3a788b935f48aad63e1c41dac1bd   \n",
       "110735  fdcf45aa23bb8312ecc0027d6e1ef1c4  113e3a788b935f48aad63e1c41dac1bd   \n",
       "110742  e97df839917a6e93404867b1d0319bfc  42bde9fef835393bb8a8849cb6b7f245   \n",
       "\n",
       "        shipping_limit_date  price  freight_value  \\\n",
       "55      2018-04-12 03:28:44  59.99          19.39   \n",
       "60      2017-07-25 05:50:19  49.99           8.72   \n",
       "68      2018-05-08 15:58:53  59.99           8.88   \n",
       "76      2018-01-15 20:08:22  59.99          16.18   \n",
       "98      2017-10-24 01:10:50  45.00           7.78   \n",
       "...                     ...    ...            ...   \n",
       "110722  2017-12-01 13:39:22  99.00           9.65   \n",
       "110724  2018-07-27 09:04:32  64.50          42.47   \n",
       "110734  2018-05-03 09:30:37   7.84          22.06   \n",
       "110735  2018-05-03 09:30:37   7.84          22.06   \n",
       "110742  2017-09-07 21:25:40  19.00          15.79   \n",
       "\n",
       "                               review_id  review_score review_comment_title  \\\n",
       "55      fce2fd5d7a5775c8bf4e7186cd00aab3             5               Ótimo    \n",
       "60      15751113f34ccc2f93a152e855ebfa37             5                  NaN   \n",
       "68      c78a6fcd085d678131199a80be88fec6             4       Produto errado   \n",
       "76      6fc047623de3c1be11b2ee6e81d1efe2             4                  NaN   \n",
       "98      41930cc621ab6b5ef58580c2087fb546             5                  NaN   \n",
       "...                                  ...           ...                  ...   \n",
       "110722  2ff8c02dd6b39252a7af2801a9559ae6             5                  NaN   \n",
       "110724  72670cacdf95d373cc638d30551de3aa             4                  NaN   \n",
       "110734  cb864e5bb7299e87df2bf1eb66fddbcd             4                Ótimo   \n",
       "110735  cb864e5bb7299e87df2bf1eb66fddbcd             4                Ótimo   \n",
       "110742  52103af7ab77ef377854cc1b7e6aeead             4                  NaN   \n",
       "\n",
       "                                   review_comment_message  \\\n",
       "55      O produto foi entregue antes do prazo, em perf...   \n",
       "60                                                    NaN   \n",
       "68             Veio com a voltagem 220,sendo que pedi 110   \n",
       "76                                                    NaN   \n",
       "98                                                    NaN   \n",
       "...                                                   ...   \n",
       "110722  Loja entrou em contato para confirmar a tenção...   \n",
       "110724                                                NaN   \n",
       "110734  O produto chegou antes da data prevista, é tud...   \n",
       "110735  O produto chegou antes da data prevista, é tud...   \n",
       "110742                                                NaN   \n",
       "\n",
       "       review_creation_date review_answer_timestamp  \\\n",
       "55      2018-04-29 00:00:00     2018-04-29 19:40:25   \n",
       "60      2017-07-21 00:00:00     2017-07-24 10:31:42   \n",
       "68      2018-05-18 00:00:00     2018-05-26 05:08:43   \n",
       "76      2018-01-18 00:00:00     2018-01-19 08:38:05   \n",
       "98      2017-10-20 00:00:00     2017-10-21 12:18:34   \n",
       "...                     ...                     ...   \n",
       "110722  2017-12-06 00:00:00     2017-12-11 13:49:59   \n",
       "110724  2018-08-01 00:00:00     2018-08-03 19:24:11   \n",
       "110734  2018-05-04 00:00:00     2018-05-05 01:32:43   \n",
       "110735  2018-05-04 00:00:00     2018-05-05 01:32:43   \n",
       "110742  2017-09-12 00:00:00     2017-09-13 01:50:29   \n",
       "\n",
       "              product_category_name product_category_name_english  \n",
       "55                     beleza_saude                 health_beauty  \n",
       "60                     beleza_saude                 health_beauty  \n",
       "68                     beleza_saude                 health_beauty  \n",
       "76                     beleza_saude                 health_beauty  \n",
       "98      fashion_bolsas_e_acessorios      fashion_bags_accessories  \n",
       "...                             ...                           ...  \n",
       "110722       informatica_acessorios         computers_accessories  \n",
       "110724                   automotivo                          auto  \n",
       "110734             artigos_de_natal            christmas_supplies  \n",
       "110735             artigos_de_natal            christmas_supplies  \n",
       "110742                   brinquedos                          toys  \n",
       "\n",
       "[14233 rows x 15 columns]"
      ]
     },
     "execution_count": 21,
     "metadata": {},
     "output_type": "execute_result"
    }
   ],
   "source": [
    "product_order_review_df[product_order_review_df.order_id.duplicated()]"
   ]
  },
  {
   "cell_type": "code",
   "execution_count": 14,
   "metadata": {},
   "outputs": [
    {
     "name": "stdout",
     "output_type": "stream",
     "text": [
      "<class 'pandas.core.frame.DataFrame'>\n",
      "RangeIndex: 110750 entries, 0 to 110749\n",
      "Data columns (total 8 columns):\n",
      " #   Column                         Non-Null Count   Dtype  \n",
      "---  ------                         --------------   -----  \n",
      " 0   order_id                       110750 non-null  object \n",
      " 1   order_item_id                  110750 non-null  int64  \n",
      " 2   product_id                     110750 non-null  object \n",
      " 3   price                          110750 non-null  float64\n",
      " 4   freight_value                  110750 non-null  float64\n",
      " 5   review_score                   110750 non-null  int64  \n",
      " 6   product_category_name          110750 non-null  object \n",
      " 7   product_category_name_english  110750 non-null  object \n",
      "dtypes: float64(2), int64(2), object(4)\n",
      "memory usage: 6.8+ MB\n"
     ]
    }
   ],
   "source": [
    "product_order_review_df.info()"
   ]
  },
  {
   "cell_type": "markdown",
   "metadata": {},
   "source": [
    "Selanjutnya melakukan pengevekan dataset customer_order"
   ]
  },
  {
   "cell_type": "code",
   "execution_count": 37,
   "metadata": {},
   "outputs": [
    {
     "data": {
      "text/plain": [
       "0"
      ]
     },
     "execution_count": 37,
     "metadata": {},
     "output_type": "execute_result"
    }
   ],
   "source": [
    "customer_order_df.order_id.duplicated().sum() #banyak data duplikat dari order_id"
   ]
  },
  {
   "cell_type": "code",
   "execution_count": 38,
   "metadata": {},
   "outputs": [
    {
     "data": {
      "text/plain": [
       "customer_id           0\n",
       "customer_unique_id    0\n",
       "customer_city         0\n",
       "customer_state        0\n",
       "order_id              0\n",
       "dtype: int64"
      ]
     },
     "execution_count": 38,
     "metadata": {},
     "output_type": "execute_result"
    }
   ],
   "source": [
    "customer_order_df.isna().sum() #tidak ada data kosong/ NAN"
   ]
  },
  {
   "attachments": {},
   "cell_type": "markdown",
   "metadata": {},
   "source": [
    "### Cleaning Data"
   ]
  },
  {
   "cell_type": "markdown",
   "metadata": {},
   "source": [
    "melakukan penghapusan data duplikat pada tabel product_order_review"
   ]
  },
  {
   "cell_type": "code",
   "execution_count": 17,
   "metadata": {},
   "outputs": [],
   "source": [
    "product_order_review_df = product_order_review_df.drop_duplicates(keep=\"last\", subset=[\"order_id\"])"
   ]
  },
  {
   "cell_type": "code",
   "execution_count": 18,
   "metadata": {},
   "outputs": [
    {
     "name": "stdout",
     "output_type": "stream",
     "text": [
      "<class 'pandas.core.frame.DataFrame'>\n",
      "Index: 96517 entries, 0 to 110749\n",
      "Data columns (total 8 columns):\n",
      " #   Column                         Non-Null Count  Dtype  \n",
      "---  ------                         --------------  -----  \n",
      " 0   order_id                       96517 non-null  object \n",
      " 1   order_item_id                  96517 non-null  int64  \n",
      " 2   product_id                     96517 non-null  object \n",
      " 3   price                          96517 non-null  float64\n",
      " 4   freight_value                  96517 non-null  float64\n",
      " 5   review_score                   96517 non-null  int64  \n",
      " 6   product_category_name          96517 non-null  object \n",
      " 7   product_category_name_english  96517 non-null  object \n",
      "dtypes: float64(2), int64(2), object(4)\n",
      "memory usage: 6.6+ MB\n"
     ]
    }
   ],
   "source": [
    "product_order_review_df.info()"
   ]
  },
  {
   "cell_type": "markdown",
   "metadata": {},
   "source": [
    "Setelah data frame untuk setiap pertanyaan sudah terbentuk, maka dilakukan penyatuan tabel agar data yang ditampilkan memiliki urutan dan jumlah yang sama atau semua data terintegrasi secara keseluruhan"
   ]
  },
  {
   "cell_type": "code",
   "execution_count": 39,
   "metadata": {},
   "outputs": [
    {
     "name": "stdout",
     "output_type": "stream",
     "text": [
      "<class 'pandas.core.frame.DataFrame'>\n",
      "RangeIndex: 96517 entries, 0 to 96516\n",
      "Data columns (total 12 columns):\n",
      " #   Column                         Non-Null Count  Dtype  \n",
      "---  ------                         --------------  -----  \n",
      " 0   customer_id                    96517 non-null  object \n",
      " 1   customer_unique_id             96517 non-null  object \n",
      " 2   customer_city                  96517 non-null  object \n",
      " 3   customer_state                 96517 non-null  object \n",
      " 4   order_id                       96517 non-null  object \n",
      " 5   order_item_id                  96517 non-null  int64  \n",
      " 6   product_id                     96517 non-null  object \n",
      " 7   price                          96517 non-null  float64\n",
      " 8   freight_value                  96517 non-null  float64\n",
      " 9   review_score                   96517 non-null  int64  \n",
      " 10  product_category_name          96517 non-null  object \n",
      " 11  product_category_name_english  96517 non-null  object \n",
      "dtypes: float64(2), int64(2), object(8)\n",
      "memory usage: 8.8+ MB\n"
     ]
    }
   ],
   "source": [
    "all_df = pd.merge(\n",
    "    left = customer_order_df,\n",
    "    right = product_order_review_df,\n",
    "    how = \"inner\",\n",
    "    left_on = \"order_id\",\n",
    "    right_on = \"order_id\"\n",
    ")\n",
    "all_df.info()"
   ]
  },
  {
   "cell_type": "code",
   "execution_count": 40,
   "metadata": {},
   "outputs": [],
   "source": [
    "all_df.to_csv(\"all_data.csv\", index=False)"
   ]
  },
  {
   "attachments": {},
   "cell_type": "markdown",
   "metadata": {},
   "source": [
    "## Exploratory Data Analysis (EDA)"
   ]
  },
  {
   "attachments": {},
   "cell_type": "markdown",
   "metadata": {},
   "source": [
    "### Explore ..."
   ]
  },
  {
   "cell_type": "markdown",
   "metadata": {},
   "source": [
    "untuk mencari revenue tiap jenis kategori produk, perlu dilakukan pengkalian jumlah item terhadap harga"
   ]
  },
  {
   "cell_type": "code",
   "execution_count": 41,
   "metadata": {},
   "outputs": [
    {
     "data": {
      "text/html": [
       "<div>\n",
       "<style scoped>\n",
       "    .dataframe tbody tr th:only-of-type {\n",
       "        vertical-align: middle;\n",
       "    }\n",
       "\n",
       "    .dataframe tbody tr th {\n",
       "        vertical-align: top;\n",
       "    }\n",
       "\n",
       "    .dataframe thead th {\n",
       "        text-align: right;\n",
       "    }\n",
       "</style>\n",
       "<table border=\"1\" class=\"dataframe\">\n",
       "  <thead>\n",
       "    <tr style=\"text-align: right;\">\n",
       "      <th></th>\n",
       "      <th>review_score</th>\n",
       "      <th>order_id</th>\n",
       "      <th>revenue</th>\n",
       "    </tr>\n",
       "    <tr>\n",
       "      <th>product_category_name_english</th>\n",
       "      <th></th>\n",
       "      <th></th>\n",
       "      <th></th>\n",
       "    </tr>\n",
       "  </thead>\n",
       "  <tbody>\n",
       "    <tr>\n",
       "      <th>security_and_services</th>\n",
       "      <td>2.500000</td>\n",
       "      <td>2</td>\n",
       "      <td>283.29</td>\n",
       "    </tr>\n",
       "    <tr>\n",
       "      <th>office_furniture</th>\n",
       "      <td>3.622807</td>\n",
       "      <td>1254</td>\n",
       "      <td>266854.17</td>\n",
       "    </tr>\n",
       "    <tr>\n",
       "      <th>fashion_male_clothing</th>\n",
       "      <td>3.702703</td>\n",
       "      <td>111</td>\n",
       "      <td>10533.32</td>\n",
       "    </tr>\n",
       "    <tr>\n",
       "      <th>diapers_and_hygiene</th>\n",
       "      <td>3.740741</td>\n",
       "      <td>27</td>\n",
       "      <td>1567.59</td>\n",
       "    </tr>\n",
       "    <tr>\n",
       "      <th>fashio_female_clothing</th>\n",
       "      <td>3.815789</td>\n",
       "      <td>38</td>\n",
       "      <td>2743.74</td>\n",
       "    </tr>\n",
       "    <tr>\n",
       "      <th>...</th>\n",
       "      <td>...</td>\n",
       "      <td>...</td>\n",
       "      <td>...</td>\n",
       "    </tr>\n",
       "    <tr>\n",
       "      <th>costruction_tools_tools</th>\n",
       "      <td>4.425532</td>\n",
       "      <td>94</td>\n",
       "      <td>15774.25</td>\n",
       "    </tr>\n",
       "    <tr>\n",
       "      <th>books_general_interest</th>\n",
       "      <td>4.461538</td>\n",
       "      <td>507</td>\n",
       "      <td>46345.16</td>\n",
       "    </tr>\n",
       "    <tr>\n",
       "      <th>fashion_childrens_clothes</th>\n",
       "      <td>4.500000</td>\n",
       "      <td>8</td>\n",
       "      <td>569.85</td>\n",
       "    </tr>\n",
       "    <tr>\n",
       "      <th>flowers</th>\n",
       "      <td>4.538462</td>\n",
       "      <td>26</td>\n",
       "      <td>913.54</td>\n",
       "    </tr>\n",
       "    <tr>\n",
       "      <th>cds_dvds_musicals</th>\n",
       "      <td>4.666667</td>\n",
       "      <td>12</td>\n",
       "      <td>730.00</td>\n",
       "    </tr>\n",
       "  </tbody>\n",
       "</table>\n",
       "<p>71 rows × 3 columns</p>\n",
       "</div>"
      ],
      "text/plain": [
       "                               review_score  order_id    revenue\n",
       "product_category_name_english                                   \n",
       "security_and_services              2.500000         2     283.29\n",
       "office_furniture                   3.622807      1254  266854.17\n",
       "fashion_male_clothing              3.702703       111   10533.32\n",
       "diapers_and_hygiene                3.740741        27    1567.59\n",
       "fashio_female_clothing             3.815789        38    2743.74\n",
       "...                                     ...       ...        ...\n",
       "costruction_tools_tools            4.425532        94   15774.25\n",
       "books_general_interest             4.461538       507   46345.16\n",
       "fashion_childrens_clothes          4.500000         8     569.85\n",
       "flowers                            4.538462        26     913.54\n",
       "cds_dvds_musicals                  4.666667        12     730.00\n",
       "\n",
       "[71 rows x 3 columns]"
      ]
     },
     "execution_count": 41,
     "metadata": {},
     "output_type": "execute_result"
    }
   ],
   "source": [
    "product_order_review_df[\"revenue\"] = product_order_review_df.order_item_id * product_order_review_df.price\n",
    "product_order_review_df.groupby(by=\"product_category_name_english\").agg({\"review_score\":\"mean\",\"order_id\":\"count\", \"revenue\":\"sum\"}).sort_values(by=\"review_score\", ascending=True)"
   ]
  },
  {
   "attachments": {},
   "cell_type": "markdown",
   "metadata": {},
   "source": [
    "## Visualization & Explanatory Analysis"
   ]
  },
  {
   "attachments": {},
   "cell_type": "markdown",
   "metadata": {},
   "source": [
    "### Pertanyaan 1: "
   ]
  },
  {
   "cell_type": "markdown",
   "metadata": {},
   "source": [
    "- Bagaimana performa penjualan terhadap kategori barang yang memiliki score review rendah ?"
   ]
  },
  {
   "cell_type": "markdown",
   "metadata": {},
   "source": [
    "Untuk mendapatkan data kategori produk dengan review score paling rendah dapat dilakukan dengan metode groupby, dengan mengelompokkan kategori produk lalu menampilkan nilai rata-rata review score dan jumlah order atau pesanan"
   ]
  },
  {
   "cell_type": "code",
   "execution_count": 42,
   "metadata": {},
   "outputs": [
    {
     "data": {
      "text/html": [
       "<div>\n",
       "<style scoped>\n",
       "    .dataframe tbody tr th:only-of-type {\n",
       "        vertical-align: middle;\n",
       "    }\n",
       "\n",
       "    .dataframe tbody tr th {\n",
       "        vertical-align: top;\n",
       "    }\n",
       "\n",
       "    .dataframe thead th {\n",
       "        text-align: right;\n",
       "    }\n",
       "</style>\n",
       "<table border=\"1\" class=\"dataframe\">\n",
       "  <thead>\n",
       "    <tr style=\"text-align: right;\">\n",
       "      <th></th>\n",
       "      <th>product_category_name_english</th>\n",
       "      <th>review_score</th>\n",
       "      <th>order_id</th>\n",
       "    </tr>\n",
       "  </thead>\n",
       "  <tbody>\n",
       "    <tr>\n",
       "      <th>0</th>\n",
       "      <td>security_and_services</td>\n",
       "      <td>2.500000</td>\n",
       "      <td>2</td>\n",
       "    </tr>\n",
       "    <tr>\n",
       "      <th>1</th>\n",
       "      <td>office_furniture</td>\n",
       "      <td>3.622807</td>\n",
       "      <td>1254</td>\n",
       "    </tr>\n",
       "    <tr>\n",
       "      <th>2</th>\n",
       "      <td>fashion_male_clothing</td>\n",
       "      <td>3.702703</td>\n",
       "      <td>111</td>\n",
       "    </tr>\n",
       "    <tr>\n",
       "      <th>3</th>\n",
       "      <td>diapers_and_hygiene</td>\n",
       "      <td>3.740741</td>\n",
       "      <td>27</td>\n",
       "    </tr>\n",
       "    <tr>\n",
       "      <th>4</th>\n",
       "      <td>fashio_female_clothing</td>\n",
       "      <td>3.815789</td>\n",
       "      <td>38</td>\n",
       "    </tr>\n",
       "  </tbody>\n",
       "</table>\n",
       "</div>"
      ],
      "text/plain": [
       "  product_category_name_english  review_score  order_id\n",
       "0         security_and_services      2.500000         2\n",
       "1              office_furniture      3.622807      1254\n",
       "2         fashion_male_clothing      3.702703       111\n",
       "3           diapers_and_hygiene      3.740741        27\n",
       "4        fashio_female_clothing      3.815789        38"
      ]
     },
     "execution_count": 42,
     "metadata": {},
     "output_type": "execute_result"
    }
   ],
   "source": [
    "review_sale_df = all_df.groupby(\"product_category_name_english\").agg({\"review_score\":\"mean\",\"order_id\":\"count\"}).sort_values(by =\"review_score\",ascending=True).reset_index()\n",
    "review_sale_df.head(5)"
   ]
  },
  {
   "cell_type": "markdown",
   "metadata": {},
   "source": [
    "Setelah mendapatkan data kategori produk dengan nilai score review terendah, dapat dilanjutkan dengan menampilkan visual dengan jenis grafik bar charts"
   ]
  },
  {
   "cell_type": "code",
   "execution_count": 43,
   "metadata": {},
   "outputs": [
    {
     "name": "stderr",
     "output_type": "stream",
     "text": [
      "C:\\Users\\LENOVO\\AppData\\Local\\Temp\\ipykernel_6788\\2811165573.py:5: FutureWarning: \n",
      "\n",
      "Passing `palette` without assigning `hue` is deprecated and will be removed in v0.14.0. Assign the `y` variable to `hue` and set `legend=False` for the same effect.\n",
      "\n",
      "  sns.barplot(x=\"order_id\", y=\"product_category_name_english\", data=review_sale_df.head(5), palette=colors)\n"
     ]
    },
    {
     "data": {
      "image/png": "[encoded data removed]",
      "text/plain": [
       "<Figure size 2000x500 with 1 Axes>"
      ]
     },
     "metadata": {},
     "output_type": "display_data"
    }
   ],
   "source": [
    "plt.figure(figsize=(20, 5))\n",
    "\n",
    "colors = [\"#72BCD4\", \"#D3D3D3\", \"#D3D3D3\", \"#D3D3D3\", \"#D3D3D3\"]\n",
    " \n",
    "sns.barplot(x=\"order_id\", y=\"product_category_name_english\", data=review_sale_df.head(5), palette=colors)\n",
    "plt.ylabel(None)\n",
    "plt.xlabel(None)\n",
    "plt.title(\"Kategori Produk Dengan Review Score Terendah\", loc=\"center\", fontsize=15)\n",
    "plt.tick_params(axis ='y', labelsize=12)"
   ]
  },
  {
   "attachments": {},
   "cell_type": "markdown",
   "metadata": {},
   "source": [
    "### Pertanyaan 2: "
   ]
  },
  {
   "cell_type": "markdown",
   "metadata": {},
   "source": [
    "- Kota dengan jumlah pembeli paling banyak?"
   ]
  },
  {
   "cell_type": "markdown",
   "metadata": {},
   "source": [
    "Untuk mendapatkan data kota dengan jumlah pesanan/order paling banyak cukup dilakukan pengambilan data dengan metode value counts"
   ]
  },
  {
   "cell_type": "code",
   "execution_count": 34,
   "metadata": {},
   "outputs": [
    {
     "name": "stdout",
     "output_type": "stream",
     "text": [
      "customer_city\n",
      "sao paulo                15045\n",
      "rio de janeiro            6640\n",
      "belo horizonte            2682\n",
      "brasilia                  2076\n",
      "curitiba                  1486\n",
      "campinas                  1398\n",
      "porto alegre              1345\n",
      "salvador                  1194\n",
      "guarulhos                 1150\n",
      "sao bernardo do campo      907\n",
      "Name: count, dtype: int64\n"
     ]
    }
   ],
   "source": [
    "cust = all_df.customer_city.value_counts().head(10)\n",
    "\n",
    "print(cust)"
   ]
  },
  {
   "cell_type": "markdown",
   "metadata": {},
   "source": [
    "Selanjutnya data dilanjutkan dengan penjelasan decara visual dengan menampilkan bar charts tiap kota"
   ]
  },
  {
   "cell_type": "code",
   "execution_count": 74,
   "metadata": {},
   "outputs": [
    {
     "data": {
      "image/png": "[encoded data removed]",
      "text/plain": [
       "<Figure size 2000x1000 with 1 Axes>"
      ]
     },
     "metadata": {},
     "output_type": "display_data"
    }
   ],
   "source": [
    "plt.figure(figsize=(20, 10))\n",
    "pl = cust.plot(kind=\"bar\",rot=0)\n",
    "plt.ylabel(None)\n",
    "plt.xlabel(None)\n",
    "plt.title(\"Kota dengan jumlah customer terbesar\", loc=\"center\", fontsize=15)\n",
    "plt.tick_params(axis ='y', labelsize=12)\n",
    "plt.tick_params(axis ='x', labelsize=12)"
   ]
  },
  {
   "attachments": {},
   "cell_type": "markdown",
   "metadata": {},
   "source": [
    "## Conclusion"
   ]
  },
  {
   "cell_type": "markdown",
   "metadata": {},
   "source": [
    "Conclusion 1\n",
    "\n",
    "Kesimpulan dari penjualan dari kategori barang yang memiliki review paling rendah adalah security and services yang memiliki score review sebesaar 2.5 dan hanya terjual sebanyak 2 unit saja. Apabila dilihat dari 4 barang lainnya, review score jenis kategori baranng tidak berpengaruh terhadap jumlah penjualan barang. Hal tersebut dapat dibuktikan dengan kategori barang \"offices and furniture\" dengan review score 3.6 dapat mencatatkan penjualan sebesar 1254 unit.\n",
    "Berdasarkan dari angka diatas, dapat dijadikan sebuah acuan bagi perusahaan, bahwa customer tidak terlalu mengutamakan review score dari kategori barang tersebut, melainkan lebih mengutamakan ketersediaan jenis barang yang sesuai dengan kebutuhan customer."
   ]
  },
  {
   "cell_type": "markdown",
   "metadata": {},
   "source": [
    "Conclusion 2\n",
    "\n",
    "Dari 96517 transaksi yag terjadi mulai tahun 2016 hingga 2018, sebanyak 15 ribu order yang masuk berasal dari kota Sao Paulo. Lalu di urutan kedua ada Rio de Jenairo dengan jumlah order tidak sampai setengah kali lipat dari jumlah order yang berasal dari kota Sao Paulo, yakni sebesar 6640 order. Tingginya angka jumlah customer di dua kota tersebut dapat dijadikan sebuah pertimbangan bagi perusahaan untuk lebih memperluas area pemasaran."
   ]
  }
 ],
 "metadata": {
  "kernelspec": {
   "display_name": "Python 3",
   "language": "python",
   "name": "python3"
  },
  "language_info": {
   "codemirror_mode": {
    "name": "ipython",
    "version": 3
   },
   "file_extension": ".py",
   "mimetype": "text/x-python",
   "name": "python",
   "nbconvert_exporter": "python",
   "pygments_lexer": "ipython3",
   "version": "3.11.1"
  },
  "orig_nbformat": 4,
  "vscode": {
   "interpreter": {
    "hash": "972b3bf27e332e87b5379f2791f6ef9dfc79c71018c370b0d7423235e20fe4d7"
   }
  }
 },
 "nbformat": 4,
 "nbformat_minor": 2
}
